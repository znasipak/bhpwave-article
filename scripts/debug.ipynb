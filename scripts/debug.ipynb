{
 "cells": [
  {
   "cell_type": "code",
   "execution_count": 5,
   "metadata": {},
   "outputs": [],
   "source": [
    "from bhpwave.spline import CubicSpline, BicubicSpline\n",
    "from bhpwave.trajectory.geodesic import kerr_isco_frequency, kerr_circ_geo_radius\n",
    "\n",
    "import matplotlib.pyplot as plt\n",
    "import matplotlib as mpl\n",
    "import numpy as np\n",
    "mpl.rc('font', **{'family': 'serif', 'serif': ['Computer Modern']})\n",
    "mpl.rc('text', usetex=True)\n",
    "mpl.rc('font', **{'size' : 14})\n",
    "\n",
    "import os\n",
    "pathname=os.path.abspath(\"\")\n",
    "\n",
    "OMEGA_MIN = 2.e-3\n",
    "A_MAX = 0.9999\n",
    "\n",
    "def alpha_of_a_omega(a, omega):\n",
    "    oISCO = kerr_isco_frequency(a)\n",
    "    return alpha_of_omega_ISCO(omega, oISCO)\n",
    "\n",
    "def alpha_of_omega_ISCO(omega, oISCO):\n",
    "    return (abs(oISCO**(1./3.) - omega**(1./3.))/(oISCO**(1./3.) - OMEGA_MIN**(1./3.)))**(0.5)\n",
    "\n",
    "def omega_of_a_alpha(a, alpha):\n",
    "    oISCO = kerr_isco_frequency(a)\n",
    "    return omega_of_alpha_ISCO(alpha, oISCO)\n",
    "\n",
    "def omega_of_alpha_ISCO(alpha, oISCO):\n",
    "    return pow(pow(oISCO, 1./3.) - pow(alpha, 2.)*(pow(oISCO, 1./3.) - pow(OMEGA_MIN, 1./3.)), 3.)\n",
    "\n",
    "def chi_of_spin_subfunc(a):\n",
    "    return pow(1. - a, 1./3.)\n",
    "\n",
    "def chi_of_spin(a):\n",
    "    return pow((chi_of_spin_subfunc(a) - chi_of_spin_subfunc(A_MAX))/(chi_of_spin_subfunc(-A_MAX) - chi_of_spin_subfunc(A_MAX)), 0.5)\n",
    "\n",
    "def spin_of_chi(chi):\n",
    "    return 1. - pow(chi_of_spin_subfunc(A_MAX) + pow(chi, 2.)*(chi_of_spin_subfunc(-A_MAX) - chi_of_spin_subfunc(A_MAX)), 3.)\n",
    "\n",
    "def a_omega_to_chi_alpha(a, omega):\n",
    "    chi = chi_of_spin(a)\n",
    "    alpha = alpha_of_a_omega(a, omega)\n",
    "    return (chi, alpha)\n",
    "\n",
    "def pn_flux_noprefactor(omega):\n",
    "    return omega**(10./3.)\n",
    "\n",
    "def pn_time_noprefactor(a, omega):\n",
    "    oISCO = kerr_isco_frequency(a)\n",
    "    offset = oISCO**(-8/3) + 1.e-6\n",
    "    return -np.abs(offset - omega**(-8./3.))\n",
    "\n",
    "def pn_phase_noprefactor(a, omega):\n",
    "    oISCO = kerr_isco_frequency(a)\n",
    "    offset = oISCO**(-5/3) + 1.e-6\n",
    "    return -np.abs(offset - omega**(-5./3.))\n",
    "\n",
    "def pn_flux_noprefactor_domega(omega):\n",
    "    return (10./3.)*omega**(7./3.)\n",
    "\n",
    "def pn_time_noprefactor_domega(omega):\n",
    "    return -(-8/3)*omega**(-11./3.)\n",
    "\n",
    "def pn_phase_noprefactor_domega(omega):\n",
    "    return -(-5/3)*omega**(-8./3.)\n",
    "\n",
    "def load_trajectory_data_file(filepath):\n",
    "    traj = np.loadtxt(filepath, skiprows=3)\n",
    "    #trajHeader = np.loadtxt(filepath, skiprows=2, max_rows=1, dtype='str')\n",
    "    trajShape = np.loadtxt(filepath, skiprows=1, max_rows=1, dtype='int')\n",
    "\n",
    "    fluxDataTemp = np.ascontiguousarray(traj[:, 2].reshape(trajShape[:2]))\n",
    "    alphaDataFluxTemp = np.ascontiguousarray(traj[:, 1].reshape(trajShape[:2])[0])\n",
    "    chiDataFluxTemp = np.ascontiguousarray(traj[:, 0].reshape(trajShape[:2])[:, 0])\n",
    "\n",
    "    phaseData = np.ascontiguousarray(traj[:, 4].reshape(trajShape[:2]))\n",
    "    timeData = np.ascontiguousarray(traj[:, 3].reshape(trajShape[:2]))\n",
    "    alphaData = np.ascontiguousarray(traj[:, 1].reshape(trajShape[:2])[0])\n",
    "    chiData = np.ascontiguousarray(traj[:, 0].reshape(trajShape[:2])[:, 0])\n",
    "    betaData = np.ascontiguousarray(traj[:, 5].reshape(trajShape[:2])[0])\n",
    "    omegaData = np.ascontiguousarray(traj[:, 6].reshape(trajShape[:2]))\n",
    "    phaseBetaData = np.ascontiguousarray(traj[:, 7].reshape(trajShape[:2]))\n",
    "\n",
    "    fluxDownsampleChi = int((trajShape[0] - 1)/(trajShape[2] - 1))\n",
    "    fluxDownsampleAlpha = int((trajShape[1] - 1)/(trajShape[3] - 1))\n",
    "\n",
    "    fluxData = fluxDataTemp[::fluxDownsampleChi, ::fluxDownsampleAlpha]\n",
    "    alphaDataFlux = alphaDataFluxTemp[::fluxDownsampleAlpha]\n",
    "    chiDataFlux = chiDataFluxTemp[::fluxDownsampleChi]\n",
    "\n",
    "    return chiData, alphaData, timeData, phaseData, betaData, omegaData, phaseBetaData, chiDataFlux, alphaDataFlux, fluxData\n",
    "\n",
    "traj_data_full = load_trajectory_data_file(pathname+\"/../data/trajectory.txt\")\n",
    "\n",
    "timeData_temp = traj_data_full[2]\n",
    "phaseData_temp = traj_data_full[3]\n",
    "\n",
    "chiData = traj_data_full[7]\n",
    "alphaData = traj_data_full[8]\n",
    "fluxData = traj_data_full[9]\n",
    "\n",
    "downsample_chi = int((phaseData_temp.shape[0] - 1)/(fluxData.shape[0] - 1))\n",
    "downsample_alpha = int((phaseData_temp.shape[1] - 1)/(fluxData.shape[1] - 1))\n",
    "phaseData = phaseData_temp[::downsample_chi, ::downsample_alpha]\n",
    "timeData = timeData_temp[::downsample_chi, ::downsample_alpha]\n",
    "\n",
    "Edot = BicubicSpline(chiData, alphaData, fluxData)\n",
    "PhiCheck = BicubicSpline(chiData, alphaData, phaseData)\n",
    "TCheck = BicubicSpline(chiData, alphaData, timeData)\n",
    "\n",
    "downsample_rate = 4\n",
    "Nb = int((chiData.shape[0] - 1)/downsample_rate + 1)\n",
    "Na = int((alphaData.shape[0] - 1)/downsample_rate + 1)\n",
    "flux_samples = np.zeros((Nb, Na, 5))\n",
    "phase_samples = np.zeros((Nb, Na, 5))\n",
    "time_samples = np.zeros((Nb, Na, 5))\n",
    "for i in range(Nb):\n",
    "    for j in range(Na):\n",
    "        chi = chiData[downsample_rate*i]\n",
    "        alpha = alphaData[downsample_rate*j]\n",
    "        atemp = spin_of_chi(chi)\n",
    "        otemp = omega_of_a_alpha(atemp, alpha)\n",
    "        EdotData = Edot(chi, alpha)\n",
    "        PData = PhiCheck(chi, alpha)\n",
    "        TData = TCheck(chi, alpha)\n",
    "        flux_samples[i, j] = [atemp, otemp, EdotData, alpha, chi]\n",
    "        phase_samples[i, j] = [atemp, otemp, PData, alpha, chi]\n",
    "        time_samples[i, j] = [atemp, otemp, TData, alpha, chi]"
   ]
  },
  {
   "cell_type": "code",
   "execution_count": 7,
   "metadata": {},
   "outputs": [
    {
     "data": {
      "text/plain": [
       "array([ 0.85904034,  0.15743033, -0.58495866,  0.3125    ,  0.625     ])"
      ]
     },
     "execution_count": 7,
     "metadata": {},
     "output_type": "execute_result"
    }
   ],
   "source": [
    "time_samples[20,20]"
   ]
  },
  {
   "cell_type": "code",
   "execution_count": 10,
   "metadata": {},
   "outputs": [
    {
     "data": {
      "text/plain": [
       "85.59816824968382"
      ]
     },
     "execution_count": 10,
     "metadata": {},
     "output_type": "execute_result"
    }
   ],
   "source": [
    "pn_time_noprefactor(0.9411845318952371, 0.16569872100996472)"
   ]
  },
  {
   "cell_type": "code",
   "execution_count": 13,
   "metadata": {},
   "outputs": [
    {
     "data": {
      "text/plain": [
       "-10.75648372334578"
      ]
     },
     "execution_count": 13,
     "metadata": {},
     "output_type": "execute_result"
    }
   ],
   "source": [
    "kerr_isco_frequency(0.9411845318952371)**(-5/3) - (0.16569872100996472)**(-5/3)"
   ]
  },
  {
   "cell_type": "code",
   "execution_count": null,
   "metadata": {},
   "outputs": [],
   "source": []
  }
 ],
 "metadata": {
  "kernelspec": {
   "display_name": "bhpwave-env",
   "language": "python",
   "name": "bhpwave-env"
  },
  "language_info": {
   "codemirror_mode": {
    "name": "ipython",
    "version": 3
   },
   "file_extension": ".py",
   "mimetype": "text/x-python",
   "name": "python",
   "nbconvert_exporter": "python",
   "pygments_lexer": "ipython3",
   "version": "3.7.12"
  },
  "orig_nbformat": 4
 },
 "nbformat": 4,
 "nbformat_minor": 2
}
